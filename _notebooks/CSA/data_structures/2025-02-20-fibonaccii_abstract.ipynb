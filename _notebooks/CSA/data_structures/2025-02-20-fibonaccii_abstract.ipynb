{
 "cells": [
  {
   "cell_type": "raw",
   "metadata": {},
   "source": [
    "---\n",
    "toc: false \n",
    "layout: post\n",
    "title: Abstract Fibonaccii Hack\n",
    "description: A Fibonacci algorithm that runs using an abstract parent class.\n",
    "courses: { csa: {week: 25} }\n",
    "type: ccc\n",
    "image: /images/data_structures/fibonacci.png\n",
    "---"
   ]
  },
  {
   "cell_type": "markdown",
   "metadata": {},
   "source": [
    "![abstract]({{site.baseurl}}/images/data_structures/fibonacci.png)\n",
    "\n",
    "## Introduction\n",
    "\n",
    "This notebook uses Class definitions, ArrayLists, and Hash Maps.   My hypothosis is these data structures are probably the most widely used in the Java language.\n",
    "\n",
    "### Popcorn Hacks\n",
    "\n",
    "- Provide some reasons why you agree with my hypothesis?\n",
    "\n",
    "- Provide some data structures that you think might rival my hypothesis?\n",
    "\n",
    "- Categorize data structure mentioned, tested by college board tested, widely used, fast.\n"
   ]
  },
  {
   "cell_type": "code",
   "execution_count": 4,
   "metadata": {
    "vscode": {
     "languageId": "java"
    }
   },
   "outputs": [],
   "source": [
    "/*\n",
    " * Creator: Nighthawk Coding Society\n",
    " * Mini Lab Name: Fibonacci sequence, featuring a Stream Algorithm\n",
    " * \n",
    "*/\n",
    "\n",
    "import java.util.ArrayList;  \n",
    "import java.util.HashMap;\n",
    "import java.util.stream.Stream;\n",
    "\n",
    "/* Objective will require changing to abstract class with one or more abstract methods below */\n",
    "abstract class Fibo {\n",
    "    String name;  // name or title of method\n",
    "    int size;  // nth sequence\n",
    "    int hashID;  // counter for hashIDs in hash map\n",
    "    ArrayList<Long> list;   // captures current Fibonacci sequence\n",
    "    HashMap<Integer, Object> hash;  // captures each sequence leading to final result\n",
    "\n",
    "    /*\n",
    "     Zero parameter constructor uses Telescoping technique to allow setting of the required value nth\n",
    "     @param: none\n",
    "     */\n",
    "    public Fibo() {\n",
    "        this(8); // telescope to avoid code duplication, using default as 20\n",
    "    }\n",
    "\n",
    "    /*\n",
    "     Construct the nth fibonacci number\n",
    "     @param: nth number, the value is constrained to 92 because of overflow in a long\n",
    "     */\n",
    "    public Fibo(int nth) {\n",
    "        this.size = nth;\n",
    "        this.list = new ArrayList<>();\n",
    "        this.hashID = 0;\n",
    "        this.hash = new HashMap<>();\n",
    "        //initialize fibonacci and time mvc\n",
    "        this.calc();\n",
    "    }\n",
    "\n",
    "    /*\n",
    "     This Method should be \"abstract\"\n",
    "     Leave method as protected, as it is only authorized to extender of the class\n",
    "     Make new class that extends and defines init()\n",
    "     Inside references within this class would change from this to super\n",
    "     Repeat process using for, while, recursion\n",
    "     */\n",
    "    protected abstract void calc();\n",
    "\n",
    "    /*\n",
    "     Number is added to fibonacci sequence, current state of \"list\" is added to hash for hashID \"num\"\n",
    "     */\n",
    "    public void setData(long num) {\n",
    "        list.add(num);\n",
    "        hash.put(this.hashID++, list.clone());\n",
    "    }\n",
    "\n",
    "    /*\n",
    "     Custom Getter to return last element in fibonacci sequence\n",
    "     */\n",
    "    public long getNth() {\n",
    "        return list.get(this.size - 1);\n",
    "    }\n",
    "\n",
    "    /*\n",
    "     Custom Getter to return last fibonacci sequence in HashMap\n",
    "     */\n",
    "    public Object getNthSeq(int i) {\n",
    "        return hash.get(i);\n",
    "    }\n",
    "\n",
    "    /*\n",
    "     Console/Terminal supported print method\n",
    "     */\n",
    "    public void print() {\n",
    "        System.out.println(\"Init method = \" + this.name);\n",
    "        System.out.println(\"fibonacci Number \" + this.size + \" = \" + this.getNth());\n",
    "        System.out.println(\"fibonacci List = \" + this.list);\n",
    "        System.out.println(\"fibonacci Hashmap = \" + this.hash);\n",
    "        for (int i=0 ; i<this.size; i++ ) {\n",
    "            System.out.println(\"fibonacci Sequence \" + (i+1) + \" = \" + this.getNthSeq(i));\n",
    "        }\n",
    "    }\n",
    "}"
   ]
  },
  {
   "cell_type": "code",
   "execution_count": 5,
   "metadata": {
    "vscode": {
     "languageId": "java"
    }
   },
   "outputs": [
    {
     "name": "stdout",
     "output_type": "stream",
     "text": [
      "Init method = FiboFor extends Fibo\n",
      "fibonacci Number 2 = 1\n",
      "fibonacci List = [0, 1]\n",
      "fibonacci Hashmap = {0=[0], 1=[0, 1]}\n",
      "fibonacci Sequence 1 = [0]\n",
      "fibonacci Sequence 2 = [0, 1]\n",
      "\n",
      "Init method = FiboFor extends Fibo\n",
      "fibonacci Number 3 = 1\n",
      "fibonacci List = [0, 1, 1]\n",
      "fibonacci Hashmap = {0=[0], 1=[0, 1], 2=[0, 1, 1]}\n",
      "fibonacci Sequence 1 = [0]\n",
      "fibonacci Sequence 2 = [0, 1]\n",
      "fibonacci Sequence 3 = [0, 1, 1]\n",
      "\n",
      "Init method = FiboFor extends Fibo\n",
      "fibonacci Number 4 = 2\n",
      "fibonacci List = [0, 1, 1, 2]\n",
      "fibonacci Hashmap = {0=[0], 1=[0, 1], 2=[0, 1, 1], 3=[0, 1, 1, 2]}\n",
      "fibonacci Sequence 1 = [0]\n",
      "fibonacci Sequence 2 = [0, 1]\n",
      "fibonacci Sequence 3 = [0, 1, 1]\n",
      "fibonacci Sequence 4 = [0, 1, 1, 2]\n",
      "\n",
      "Init method = FiboFor extends Fibo\n",
      "fibonacci Number 5 = 3\n",
      "fibonacci List = [0, 1, 1, 2, 3]\n",
      "fibonacci Hashmap = {0=[0], 1=[0, 1], 2=[0, 1, 1], 3=[0, 1, 1, 2], 4=[0, 1, 1, 2, 3]}\n",
      "fibonacci Sequence 1 = [0]\n",
      "fibonacci Sequence 2 = [0, 1]\n",
      "fibonacci Sequence 3 = [0, 1, 1]\n",
      "fibonacci Sequence 4 = [0, 1, 1, 2]\n",
      "fibonacci Sequence 5 = [0, 1, 1, 2, 3]\n",
      "\n"
     ]
    }
   ],
   "source": [
    "\n",
    "public class FiboFor extends Fibo {\n",
    "\n",
    "    public FiboFor() {\n",
    "        super();\n",
    "    }\n",
    "\n",
    "    public FiboFor(int nth) {\n",
    "        super(nth);\n",
    "    }\n",
    "\n",
    "    @Override\n",
    "    protected void calc() {\n",
    "        super.name = \"FiboFor extends Fibo\";\n",
    "        long limit = this.size;\n",
    "        // for loops are likely the most common iteration structure, all the looping facts are in one line\n",
    "        for (long[] f = new long[]{0, 1}; limit-- > 0; f = new long[]{f[1], f[0] + f[1]})\n",
    "            this.setData(f[0]);\n",
    "    }\n",
    "\n",
    "    /*\n",
    "    Tester class method.\n",
    "     */\n",
    "    static public void main(int... numbers) {\n",
    "        for (int nth : numbers) {\n",
    "            Fibo fib = new FiboFor(nth);\n",
    "            fib.print();\n",
    "            System.out.println();\n",
    "        }\n",
    "    }\n",
    "}\n",
    "\n",
    "FiboFor.main(2, 3, 4, 5);\n"
   ]
  },
  {
   "cell_type": "code",
   "execution_count": 3,
   "metadata": {
    "vscode": {
     "languageId": "java"
    }
   },
   "outputs": [
    {
     "name": "stdout",
     "output_type": "stream",
     "text": [
      "Init method = FiboFor extends Fibo\n",
      "fibonacci Number 7 = 8\n",
      "fibonacci List = [0, 1, 1, 2, 3, 5, 8]\n",
      "fibonacci Hashmap = {0=[0], 1=[0, 1], 2=[0, 1, 1], 3=[0, 1, 1, 2], 4=[0, 1, 1, 2, 3], 5=[0, 1, 1, 2, 3, 5], 6=[0, 1, 1, 2, 3, 5, 8]}\n",
      "fibonacci Sequence 1 = [0]\n",
      "fibonacci Sequence 2 = [0, 1]\n",
      "fibonacci Sequence 3 = [0, 1, 1]\n",
      "fibonacci Sequence 4 = [0, 1, 1, 2]\n",
      "fibonacci Sequence 5 = [0, 1, 1, 2, 3]\n",
      "fibonacci Sequence 6 = [0, 1, 1, 2, 3, 5]\n",
      "fibonacci Sequence 7 = [0, 1, 1, 2, 3, 5, 8]\n",
      "\n"
     ]
    }
   ],
   "source": [
    "public class FiboStream extends Fibo {\n",
    "\n",
    "    public FiboStream() {\n",
    "        super();\n",
    "    }\n",
    "\n",
    "    public FiboStream(int nth) {\n",
    "        super(nth);\n",
    "    }\n",
    "\n",
    "    @Override\n",
    "    protected void init() {\n",
    "        super.name = \"FiboStream extends Extends\";\n",
    "\n",
    "        // Initial element of stream: new long[]{0, 1}\n",
    "        // Lambda expression calculate the next fibo based on the current: f -> new long[]{f[1], f[0] + f[1]}\n",
    "        Stream.iterate(new long[]{0, 1}, f -> new long[]{f[1], f[0] + f[1]})\n",
    "            .limit(super.size) // stream limit\n",
    "            .forEach(f -> super.setData(f[0]) );  // set data in super class\n",
    "    }\n",
    "\n",
    "    /*\n",
    "    Tester class method.\n",
    "     */\n",
    "    static public void main(int... numbers) {\n",
    "        for (int nth : numbers) {\n",
    "            Fibo fib = new FiboFor(nth);\n",
    "            fib.print();\n",
    "            System.out.println();\n",
    "        }\n",
    "    }\n",
    "}\n",
    "\n",
    "FiboStream.main(7);"
   ]
  },
  {
   "cell_type": "markdown",
   "metadata": {},
   "source": [
    "# Hacks\n",
    "Objectives of these hacks are ...\n",
    "\n",
    "1. Understand how to fullfill abstract class requirements using two additional algoritms.\n",
    "2. Use inheritance style of programming to test speed of each algorithm.  To test the speed, a.) be aware that the first run is always the slowest b.) to time something, my recommendation is 12 runs on the timed element, through out highest and lowest time in calculations.\n",
    "3. Be sure to make a tester and reporting methods. My desire is to see side-by-side comparisions.\n",
    "\n",
    ".85 basis for text based comparison\n",
    ".90 basis for FE presentation to BE comparison"
   ]
  },
  {
   "cell_type": "code",
   "execution_count": 4,
   "metadata": {
    "vscode": {
     "languageId": "java"
    }
   },
   "outputs": [
    {
     "name": "stdout",
     "output_type": "stream",
     "text": [
      "Fibonacci number 2 = 1\n",
      "Fibonacci number 4 = 3\n",
      "Fibonacci number 6 = 8\n",
      "Fibonacci number 20 = 6765\n",
      "Fibonacci number 30 = 832040\n",
      "Fibonacci number 40 = 102334155\n"
     ]
    }
   ],
   "source": [
    "public class SlowFibonaccii {\n",
    "\n",
    "    public String[] calc(int n) {\n",
    "        return new String[] {\n",
    "            \"Fibonacci number \" + n + \" = \" + fib(n),\n",
    "            \"Fibonacci sequence = \" + fibSeq(n)\n",
    "        };\n",
    "    }\n",
    "\n",
    "    private long fib(int n) {\n",
    "        if (n <= 1) return n;\n",
    "        return fib(n - 1) + fib(n - 2);\n",
    "    }\n",
    "\n",
    "    private String fibSeq(int n) {\n",
    "        StringBuilder sb = new StringBuilder();\n",
    "        for (int i = 0; i <= n; i++) {\n",
    "            sb.append(fib(i)).append(\" \");\n",
    "        }\n",
    "        return sb.toString().trim();\n",
    "    }\n",
    "\n",
    "    public static void main(int... numbers) {\n",
    "        for (int nth : numbers) {\n",
    "            SlowFibonaccii fib = new SlowFibonaccii();\n",
    "            fib.calc(nth);\n",
    "            System.out.println(\"Fibonacci number \" + nth + \" = \" + fib.fib(nth));\n",
    "        }\n",
    "    }\n",
    "}\n",
    "\n",
    "SlowFibonaccii.main(2, 4, 6, 20, 30, 40);"
   ]
  },
  {
   "cell_type": "code",
   "execution_count": 22,
   "metadata": {
    "vscode": {
     "languageId": "java"
    }
   },
   "outputs": [
    {
     "name": "stdout",
     "output_type": "stream",
     "text": [
      "Fibonacci of 2 is 1\n",
      "Fibonacci of 4 is 3\n",
      "Fibonacci of 6 is 8\n",
      "Fibonacci of 20 is 6765\n",
      "Fibonacci of 30 is 832040\n",
      "Fibonacci of 40 is 102334155\n",
      "Fibonacci of 70 is 190392490709135\n",
      "Fibonacci of 100 is 354224848179261915075\n",
      "Fibonacci of 200 is 280571172992510140037611932413038677189525\n",
      "Fibonacci of 400 is 176023680645013966468226945392411250770384383304492191886725992896575345044216019675\n",
      "Fibonacci of 500 is 139423224561697880139724382870407283950070256587697307264108962948325571622863290691557658876222521294125\n",
      "Fibonacci of 700 is 87470814955752846203978413017571327342367240967697381074230432592527501911290377655628227150878427331693193369109193672330777527943718169105124275\n",
      "Fibonacci of 1000 is 43466557686937456435688527675040625802564660517371780402481729089536555417949051890403879840079255169295922593080322634775209689623239873322471161642996440906533187938298969649928516003704476137795166849228875\n",
      "Fibonacci of 2000 is 4224696333392304878706725602341482782579852840250681098010280137314308584370130707224123599639141511088446087538909603607640194711643596029271983312598737326253555802606991585915229492453904998722256795316982874482472992263901833716778060607011615497886719879858311468870876264597369086722884023654422295243347964480139515349562972087652656069529806499841977448720155612802665404554171717881930324025204312082516817125\n",
      "Fibonacci of 5000 is 3878968454388325633701916308325905312082127714646245106160597214895550139044037097010822916462210669479293452858882973813483102008954982940361430156911478938364216563944106910214505634133706558656238254656700712525929903854933813928836378347518908762970712033337052923107693008518093849801803847813996748881765554653788291644268912980384613778969021502293082475666346224923071883324803280375039130352903304505842701147635242270210934637699104006714174883298422891491273104054328753298044273676822977244987749874555691907703880637046832794811358973739993110106219308149018570815397854379195305617510761053075688783766033667355445258844886241619210553457493675897849027988234351023599844663934853256411952221859563060475364645470760330902420806382584929156452876291575759142343809142302917491088984155209854432486594079793571316841692868039545309545388698114665082066862897420639323438488465240988742395873801976993820317174208932265468879364002630797780058759129671389634214252579116872755600360311370547754724604639987588046985178408674382863125\n",
      "Fibonacci of 10000 is 33644764876431783266621612005107543310302148460680063906564769974680081442166662368155595513633734025582065332680836159373734790483865268263040892463056431887354544369559827491606602099884183933864652731300088830269235673613135117579297437854413752130520504347701602264758318906527890855154366159582987279682987510631200575428783453215515103870818298969791613127856265033195487140214287532698187962046936097879900350962302291026368131493195275630227837628441540360584402572114334961180023091208287046088923962328835461505776583271252546093591128203925285393434620904245248929403901706233888991085841065183173360437470737908552631764325733993712871937587746897479926305837065742830161637408969178426378624212835258112820516370298089332099905707920064367426202389783111470054074998459250360633560933883831923386783056136435351892133279732908133732642652633989763922723407882928177953580570993691049175470808931841056146322338217465637321248226383092103297701648054726243842374862411453093812206564914032751086643394517512161526545361333111314042436854805106765843493523836959653428071768775328348234345557366719731392746273629108210679280784718035329131176778924659089938635459327894523777674406192240337638674004021330343297496902028328145933418826817683893072003634795623117103101291953169794607632737589253530772552375943788434504067715555779056450443016640119462580972216729758615026968443146952034614932291105970676243268515992834709891284706740862008587135016260312071903172086094081298321581077282076353186624611278245537208532365305775956430072517744315051539600905168603220349163222640885248852433158051534849622434848299380905070483482449327453732624567755879089187190803662058009594743150052402532709746995318770724376825907419939632265984147498193609285223945039707165443156421328157688908058783183404917434556270520223564846495196112460268313970975069382648706613264507665074611512677522748621598642530711298441182622661057163515069260029861704945425047491378115154139941550671256271197133252763631939606902895650288268608362241082050562430701794976171121233066073310059947366875\n"
     ]
    }
   ],
   "source": [
    "import java.math.BigInteger;\n",
    "import java.util.stream.Stream;\n",
    "\n",
    "public class FastestFib {\n",
    "\n",
    "    public static void main(int... args) {\n",
    "        FastestFib fib = new FastestFib();\n",
    "        for (int n : args) {\n",
    "            System.out.println(\"Fibonacci of \" + n + \" is \" + fib.fibonacci(n));\n",
    "        }\n",
    "    }\n",
    "\n",
    "    public BigInteger fibonacci(int n) {\n",
    "        return Stream.iterate(new BigInteger[]{BigInteger.ZERO, BigInteger.ONE}, f -> new BigInteger[]{f[1], f[0].add(f[1])})\n",
    "                     .limit(n + 1)\n",
    "                     .map(f -> f[0])\n",
    "                     .reduce((first, second) -> second)\n",
    "                     .orElse(BigInteger.ZERO);\n",
    "    }\n",
    "}\n",
    "\n",
    "FastestFib.main(2, 4, 6, 20, 30, 40, 70, 100, 200, 400, 500, 700, 1000, 2000, 5000, 10000);"
   ]
  }
 ],
 "metadata": {
  "kernelspec": {
   "display_name": "Java",
   "language": "java",
   "name": "java"
  },
  "language_info": {
   "codemirror_mode": "java",
   "file_extension": ".jshell",
   "mimetype": "text/x-java-source",
   "name": "Java",
   "pygments_lexer": "java",
   "version": "17.0.6+10-LTS"
  },
  "orig_nbformat": 4,
  "vscode": {
   "interpreter": {
    "hash": "aee8b7b246df8f9039afb4144a1f6fd8d2ca17a180786b69acc140d282b71a49"
   }
  }
 },
 "nbformat": 4,
 "nbformat_minor": 2
}
